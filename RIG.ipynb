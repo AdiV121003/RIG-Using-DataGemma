{
  "nbformat": 4,
  "nbformat_minor": 0,
  "metadata": {
    "colab": {
      "provenance": [],
      "authorship_tag": "ABX9TyMHQboN+VMMFP6m8HeFLmYg",
      "include_colab_link": true
    },
    "kernelspec": {
      "name": "python3",
      "display_name": "Python 3"
    },
    "language_info": {
      "name": "python"
    }
  },
  "cells": [
    {
      "cell_type": "markdown",
      "metadata": {
        "id": "view-in-github",
        "colab_type": "text"
      },
      "source": [
        "<a href=\"https://colab.research.google.com/github/AdiV121003/RIG-Using-DataGemma/blob/main/RIG.ipynb\" target=\"_parent\"><img src=\"https://colab.research.google.com/assets/colab-badge.svg\" alt=\"Open In Colab\"/></a>"
      ]
    },
    {
      "cell_type": "markdown",
      "source": [
        "Pre-requisites:\n",
        "\n",
        "A100 GPU\n",
        "\n",
        "High-RAM runtime\n",
        "\n",
        "Hugging Face Token\n"
      ],
      "metadata": {
        "id": "m7PNxWRfbPxt"
      }
    },
    {
      "cell_type": "markdown",
      "source": [
        "Step1: Login to your hugging face account and create a new token"
      ],
      "metadata": {
        "id": "cAJfUD7abne_"
      }
    },
    {
      "cell_type": "markdown",
      "source": [
        "Step2: Create DataCommons API key"
      ],
      "metadata": {
        "id": "nBnHUJb_bto7"
      }
    },
    {
      "cell_type": "markdown",
      "source": [
        "Step3: Enable Data Commons NL API"
      ],
      "metadata": {
        "id": "DPPcwrezb3ag"
      }
    },
    {
      "cell_type": "markdown",
      "source": [
        "Step4: Install and Import necessary libraries"
      ],
      "metadata": {
        "id": "aXQgs5CCa9C8"
      }
    },
    {
      "cell_type": "code",
      "source": [
        "#install the following required libraries\n",
        "!pip install -q git+https://github.com/datacommonsorg/llm-tools\n",
        "!pip install -q bitsandbytes accelerate\n",
        "\n",
        "#load the finetuned Gemma2 27B model\n",
        "\n",
        "import torch\n",
        "\n",
        "import data_gemma as dg\n",
        "\n",
        "from google.colab import userdata\n",
        "from transformers import AutoTokenizer, AutoModelForCausalLM, BitsAndBytesConfig\n",
        "\n",
        "# Initialize Data Commons API client\n",
        "DC_API_KEY = userdata.get('DC_API_KEY')\n",
        "dc = dg.DataCommons(api_key=DC_API_KEY)\n",
        "\n",
        "\n",
        "# Get finetuned Gemma2 model from HuggingFace\n",
        "HF_TOKEN = userdata.get('HF_TOKEN')\n",
        "\n",
        "nf4_config = BitsAndBytesConfig(\n",
        "   load_in_4bit=True,\n",
        "   bnb_4bit_quant_type=\"nf4\",\n",
        "   bnb_4bit_compute_dtype=torch.bfloat16\n",
        ")\n",
        "\n",
        "model_name = 'google/datagemma-rig-27b-it'\n",
        "tokenizer = AutoTokenizer.from_pretrained(model_name, token=HF_TOKEN)\n",
        "datagemma_model = AutoModelForCausalLM.from_pretrained(model_name,\n",
        "                                             device_map=\"auto\",\n",
        "                                             quantization_config=nf4_config,\n",
        "                                             torch_dtype=torch.bfloat16,\n",
        "                                             token=HF_TOKEN)\n",
        "\n",
        "# Build the LLM Model stub to use in RIG flow\n",
        "datagemma_model_wrapper = dg.HFBasic(datagemma_model, tokenizer)"
      ],
      "metadata": {
        "id": "7Tw5hCMfEnF_"
      },
      "execution_count": null,
      "outputs": []
    },
    {
      "cell_type": "markdown",
      "source": [
        "Step5: Pick or Enter a Query"
      ],
      "metadata": {
        "id": "YGU2xU4ib_Bq"
      }
    },
    {
      "cell_type": "markdown",
      "source": [
        "Step6: Run the RIG technique and Generate Output"
      ],
      "metadata": {
        "id": "6IhZvcXUbC2-"
      }
    },
    {
      "cell_type": "code",
      "source": [
        "from IPython.display import Markdown\n",
        "import textwrap\n",
        "\n",
        "def display_chat(prompt, text):\n",
        "  formatted_prompt = \"<font size='+1' color='brown'>🙋‍♂️<blockquote>\" + prompt + \"</blockquote></font>\"\n",
        "  text = text.replace('•', '  *')\n",
        "  text = textwrap.indent(text, '> ', predicate=lambda _: True)\n",
        "  formatted_text = \"<font size='+1' color='teal'>🤖\\n\\n\" + text + \"\\n</font>\"\n",
        "  return Markdown(formatted_prompt+formatted_text)\n",
        "\n",
        "def to_markdown(text):\n",
        "  text = text.replace('•', '  *')\n",
        "  return Markdown(textwrap.indent(text, '> ', predicate=lambda _: True))\n",
        "\n",
        "\n",
        "ans = dg.RIGFlow(llm=datagemma_model_wrapper, data_fetcher=dc, verbose=False).query(query=QUERY)\n",
        "Markdown(textwrap.indent(ans.answer(), '> ', predicate=lambda _: True))\n",
        "\n",
        "\n",
        "display_chat(QUERY, ans.answer())"
      ],
      "metadata": {
        "id": "4abgSAmZbG0Q"
      },
      "execution_count": null,
      "outputs": []
    }
  ]
}